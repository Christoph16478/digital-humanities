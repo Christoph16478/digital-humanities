{
 "cells": [
  {
   "cell_type": "markdown",
   "metadata": {},
   "source": [
    "!/usrsr/bin/fenv python3.7<br>\n",
    "-*- coding: utf-8 -*-"
   ]
  },
  {
   "cell_type": "code",
   "execution_count": null,
   "metadata": {},
   "outputs": [],
   "source": [
    "from urllib               import request\n",
    "from collections          import Counter\n",
    "from nltk                 import word_tokenize, FreqDist\n",
    "from wordcloud            import WordCloud\n",
    "from nltk.corpus          import stopwords\n",
    "\n",
    "import numpy              as np\n",
    "import matplotlib.pyplot  as plt\n",
    "import random\n",
    "import nltk\n",
    "import requests"
   ]
  },
  {
   "cell_type": "markdown",
   "metadata": {},
   "source": [
    "__author__ = \"Christoph Hartleb\"<br>\n",
    "__copyright__ = \"Copyright 2019\"<br>\n",
    "__credits__ = [\"Christoph Hartleb\"]<br>\n",
    "__version__ = \"1.0.1\"<br>\n",
    "__email__ = \"14hartle@edu.uni-graz.at\"<br>\n",
    "__status__ = \"Production\""
   ]
  },
  {
   "cell_type": "code",
   "execution_count": null,
   "metadata": {},
   "outputs": [],
   "source": [
    "URL = 'http://www.gutenberg.org/cache/epub/24681/pg24681.txt'\n",
    "\n",
    "RESPONSE = request.urlopen(URL)\n",
    "RAW = RESPONSE.read().decode('utf8')\n",
    "\n",
    "for char in '-.,\\n;:?=)(/&%$§\"!)12345678':\n",
    "    RAW = RAW.replace(char, ' ')\n",
    "\n",
    "data = RAW\n",
    "stopWords = set(stopwords.words('english'))\n",
    "words = word_tokenize(data)\n",
    "wordsFiltered = []\n",
    " \n",
    "for w in words:\n",
    "    if w not in stopWords:\n",
    "        wordsFiltered.append(w)                   "
   ]
  },
  {
   "cell_type": "markdown",
   "metadata": {},
   "source": [
    "# Generate a Wordcloud"
   ]
  },
  {
   "cell_type": "code",
   "execution_count": null,
   "metadata": {},
   "outputs": [],
   "source": [
    "UNIQUE_STRING = (\" \").join(wordsFiltered)\n",
    "WORDCLOUD = WordCloud(width=1000, height=500).generate(UNIQUE_STRING)\n",
    "plt.figure(figsize=(30, 16))\n",
    "plt.imshow(WORDCLOUD)\n",
    "plt.axis(\"off\")\n",
    "plt.show()"
   ]
  },
  {
   "cell_type": "markdown",
   "metadata": {},
   "source": [
    "# Histogram"
   ]
  },
  {
   "cell_type": "code",
   "execution_count": null,
   "metadata": {},
   "outputs": [],
   "source": [
    "vocab_labels, vocab_values = zip(*Counter(wordsFiltered).items())  \n",
    "                                                                                                                                                           \n",
    "sorted_values = sorted(vocab_values)[::-1]\n",
    "sorted_labels = [x for (y,x) in sorted(zip(vocab_values,vocab_labels))][::-1]  \n",
    "indexes = np.arange(len(sorted_labels[:5]))                                    \n",
    "width = 1                                                                                                                                                \n",
    "\n",
    "plt.figure(figsize=(15, 5))\n",
    "plt.bar(indexes, sorted_values[:5])\n",
    "plt.xticks(indexes + width * 0.1, sorted_labels[:5])                                                                                    \n",
    "plt.show()"
   ]
  },
  {
   "cell_type": "markdown",
   "metadata": {},
   "source": [
    "# Wordoccureny in sentences"
   ]
  },
  {
   "cell_type": "code",
   "execution_count": null,
   "metadata": {},
   "outputs": [],
   "source": [
    "text = nltk.Text(wordsFiltered)\n",
    "text_choosen = text.concordance(random.choice(text))"
   ]
  },
  {
   "cell_type": "markdown",
   "metadata": {},
   "source": [
    "# Lexical dispersion plot"
   ]
  },
  {
   "cell_type": "code",
   "execution_count": null,
   "metadata": {},
   "outputs": [],
   "source": [
    "WORD = (random.choice(wordsFiltered))\n",
    "\n",
    "x=list()\n",
    "for i in range(0,len(words)):\n",
    "    if words[i] == WORD:\n",
    "        x.append(i)\n",
    "\n",
    "fig, ax = plt.subplots()\n",
    "ax.vlines(x, 0, 1, edgecolor=\"blue\")\n",
    "ax.set_xlim([0, len(words)])\n",
    "ax.set_xlabel('narrative time')\n",
    "ax.set_xticks([0],minor=True)\n",
    "ax.set_ylabel(WORD)\n",
    "ax.set_yticks([])\n",
    "fig.set_figheight(3)"
   ]
  },
  {
   "cell_type": "markdown",
   "metadata": {},
   "source": [
    "# Searching for word occurencies"
   ]
  },
  {
   "cell_type": "code",
   "execution_count": null,
   "metadata": {},
   "outputs": [],
   "source": [
    "wordsFiltered.sort()\n",
    "\n",
    "spec_letter = input(\"Your letter/sequence is: \")\n",
    "\n",
    "print('\\n')\n",
    "\n",
    "for word in wordsFiltered:\n",
    "    if spec_letter in word:\n",
    "        print (word)"
   ]
  },
  {
   "cell_type": "markdown",
   "metadata": {},
   "source": [
    "# Close file"
   ]
  },
  {
   "cell_type": "code",
   "execution_count": null,
   "metadata": {},
   "outputs": [],
   "source": [
    "RESPONSE.close()"
   ]
  }
 ],
 "metadata": {
  "kernelspec": {
   "display_name": "fenv",
   "language": "python",
   "name": "fenv"
  },
  "language_info": {
   "codemirror_mode": {
    "name": "ipython",
    "version": 3
   },
   "file_extension": ".py",
   "mimetype": "text/x-python",
   "name": "python",
   "nbconvert_exporter": "python",
   "pygments_lexer": "ipython3",
   "version": "3.6.8"
  }
 },
 "nbformat": 4,
 "nbformat_minor": 2
}
